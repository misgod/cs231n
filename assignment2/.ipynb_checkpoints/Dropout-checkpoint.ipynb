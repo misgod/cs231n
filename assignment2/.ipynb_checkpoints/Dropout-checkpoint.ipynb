{
 "cells": [
  {
   "cell_type": "markdown",
   "metadata": {},
   "source": [
    "# Dropout\n",
    "Dropout [1] is a technique for regularizing neural networks by randomly setting some features to zero during the forward pass. In this exercise you will implement a dropout layer and modify your fully-connected network to optionally use dropout.\n",
    "\n",
    "[1] Geoffrey E. Hinton et al, \"Improving neural networks by preventing co-adaptation of feature detectors\", arXiv 2012"
   ]
  },
  {
   "cell_type": "code",
   "execution_count": 2,
   "metadata": {
    "collapsed": false
   },
   "outputs": [
    {
     "name": "stdout",
     "output_type": "stream",
     "text": [
      "The autoreload extension is already loaded. To reload it, use:\n",
      "  %reload_ext autoreload\n"
     ]
    }
   ],
   "source": [
    "# As usual, a bit of setup\n",
    "\n",
    "import time\n",
    "import numpy as np\n",
    "import matplotlib.pyplot as plt\n",
    "from cs231n.classifiers.fc_net import *\n",
    "from cs231n.data_utils import get_CIFAR10_data\n",
    "from cs231n.gradient_check import eval_numerical_gradient, eval_numerical_gradient_array\n",
    "from cs231n.solver import Solver\n",
    "\n",
    "%matplotlib inline\n",
    "plt.rcParams['figure.figsize'] = (10.0, 8.0) # set default size of plots\n",
    "plt.rcParams['image.interpolation'] = 'nearest'\n",
    "plt.rcParams['image.cmap'] = 'gray'\n",
    "\n",
    "# for auto-reloading external modules\n",
    "# see http://stackoverflow.com/questions/1907993/autoreload-of-modules-in-ipython\n",
    "%load_ext autoreload\n",
    "%autoreload 2\n",
    "\n",
    "def rel_error(x, y):\n",
    "  \"\"\" returns relative error \"\"\"\n",
    "  return np.max(np.abs(x - y) / (np.maximum(1e-8, np.abs(x) + np.abs(y))))"
   ]
  },
  {
   "cell_type": "code",
   "execution_count": 3,
   "metadata": {
    "collapsed": false
   },
   "outputs": [
    {
     "name": "stdout",
     "output_type": "stream",
     "text": [
      "X_val:  (1000, 3, 32, 32)\n",
      "X_train:  (49000, 3, 32, 32)\n",
      "X_test:  (1000, 3, 32, 32)\n",
      "y_val:  (1000,)\n",
      "y_train:  (49000,)\n",
      "y_test:  (1000,)\n"
     ]
    }
   ],
   "source": [
    "# Load the (preprocessed) CIFAR10 data.\n",
    "\n",
    "data = get_CIFAR10_data()\n",
    "for k, v in data.iteritems():\n",
    "  print '%s: ' % k, v.shape"
   ]
  },
  {
   "cell_type": "markdown",
   "metadata": {},
   "source": [
    "# Dropout forward pass\n",
    "In the file `cs231n/layers.py`, implement the forward pass for dropout. Since dropout behaves differently during training and testing, make sure to implement the operation for both modes.\n",
    "\n",
    "Once you have done so, run the cell below to test your implementation."
   ]
  },
  {
   "cell_type": "code",
   "execution_count": 9,
   "metadata": {
    "collapsed": false
   },
   "outputs": [
    {
     "name": "stdout",
     "output_type": "stream",
     "text": [
      "Running tests with p =  0.3\n",
      "Mean of input:  10.0019563832\n",
      "Mean of train-time output:  10.0251267921\n",
      "Mean of test-time output:  10.0019563832\n",
      "Fraction of train-time output set to zero:  0.699188\n",
      "Fraction of test-time output set to zero:  0.0\n",
      "\n",
      "Running tests with p =  0.6\n",
      "Mean of input:  10.0019563832\n",
      "Mean of train-time output:  9.99349268414\n",
      "Mean of test-time output:  10.0019563832\n",
      "Fraction of train-time output set to zero:  0.400412\n",
      "Fraction of test-time output set to zero:  0.0\n",
      "\n",
      "Running tests with p =  0.75\n",
      "Mean of input:  10.0019563832\n",
      "Mean of train-time output:  9.98701898472\n",
      "Mean of test-time output:  10.0019563832\n",
      "Fraction of train-time output set to zero:  0.251016\n",
      "Fraction of test-time output set to zero:  0.0\n",
      "\n"
     ]
    }
   ],
   "source": [
    "x = np.random.randn(500, 500) + 10\n",
    "\n",
    "for p in [0.3, 0.6, 0.75]:\n",
    "  out, _ = dropout_forward(x, {'mode': 'train', 'p': p})\n",
    "  out_test, _ = dropout_forward(x, {'mode': 'test', 'p': p})\n",
    "\n",
    "  print 'Running tests with p = ', p\n",
    "  print 'Mean of input: ', x.mean()\n",
    "  print 'Mean of train-time output: ', out.mean()\n",
    "  print 'Mean of test-time output: ', out_test.mean()\n",
    "  print 'Fraction of train-time output set to zero: ', (out == 0).mean()\n",
    "  print 'Fraction of test-time output set to zero: ', (out_test == 0).mean()\n",
    "  print"
   ]
  },
  {
   "cell_type": "markdown",
   "metadata": {},
   "source": [
    "# Dropout backward pass\n",
    "In the file `cs231n/layers.py`, implement the backward pass for dropout. After doing so, run the following cell to numerically gradient-check your implementation."
   ]
  },
  {
   "cell_type": "code",
   "execution_count": 10,
   "metadata": {
    "collapsed": false
   },
   "outputs": [
    {
     "name": "stdout",
     "output_type": "stream",
     "text": [
      "dx relative error:  5.44561056981e-11\n"
     ]
    }
   ],
   "source": [
    "x = np.random.randn(10, 10) + 10\n",
    "dout = np.random.randn(*x.shape)\n",
    "\n",
    "dropout_param = {'mode': 'train', 'p': 0.8, 'seed': 123}\n",
    "out, cache = dropout_forward(x, dropout_param)\n",
    "dx = dropout_backward(dout, cache)\n",
    "dx_num = eval_numerical_gradient_array(lambda xx: dropout_forward(xx, dropout_param)[0], x, dout)\n",
    "\n",
    "print 'dx relative error: ', rel_error(dx, dx_num)"
   ]
  },
  {
   "cell_type": "markdown",
   "metadata": {},
   "source": [
    "# Fully-connected nets with Dropout\n",
    "In the file `cs231n/classifiers/fc_net.py`, modify your implementation to use dropout. Specificially, if the constructor the the net receives a nonzero value for the `dropout` parameter, then the net should add dropout immediately after every ReLU nonlinearity. After doing so, run the following to numerically gradient-check your implementation."
   ]
  },
  {
   "cell_type": "code",
   "execution_count": 12,
   "metadata": {
    "collapsed": false
   },
   "outputs": [
    {
     "name": "stdout",
     "output_type": "stream",
     "text": [
      "Running check with dropout =  0\n",
      "Initial loss:  2.30304316117\n",
      "W1 relative error: 4.80e-07\n",
      "W2 relative error: 1.97e-07\n",
      "W3 relative error: 1.56e-07\n",
      "b1 relative error: 2.03e-08\n",
      "b2 relative error: 1.69e-09\n",
      "b3 relative error: 1.11e-10\n",
      "\n",
      "Running check with dropout =  0.25\n",
      "Initial loss:  2.30235424783\n",
      "W1 relative error: 1.00e-07\n",
      "W2 relative error: 2.26e-09\n",
      "W3 relative error: 2.56e-05\n",
      "b1 relative error: 9.37e-10\n",
      "b2 relative error: 2.13e-01\n",
      "b3 relative error: 1.25e-10\n",
      "\n",
      "Running check with dropout =  0.5\n",
      "Initial loss:  2.30424261716\n",
      "W1 relative error: 1.21e-07\n",
      "W2 relative error: 2.45e-08\n",
      "W3 relative error: 8.06e-07\n",
      "b1 relative error: 2.28e-08\n",
      "b2 relative error: 6.84e-10\n",
      "b3 relative error: 1.28e-10\n",
      "\n"
     ]
    }
   ],
   "source": [
    "N, D, H1, H2, C = 2, 15, 20, 30, 10\n",
    "X = np.random.randn(N, D)\n",
    "y = np.random.randint(C, size=(N,))\n",
    "\n",
    "for dropout in [0, 0.25, 0.5]:\n",
    "  print 'Running check with dropout = ', dropout\n",
    "  model = FullyConnectedNet([H1, H2], input_dim=D, num_classes=C,\n",
    "                            weight_scale=5e-2, dtype=np.float64,\n",
    "                            dropout=dropout, seed=123)\n",
    "\n",
    "  loss, grads = model.loss(X, y)\n",
    "  print 'Initial loss: ', loss\n",
    "\n",
    "  for name in sorted(grads):\n",
    "    f = lambda _: model.loss(X, y)[0]\n",
    "    grad_num = eval_numerical_gradient(f, model.params[name], verbose=False, h=1e-5)\n",
    "    print '%s relative error: %.2e' % (name, rel_error(grad_num, grads[name]))\n",
    "  print"
   ]
  },
  {
   "cell_type": "markdown",
   "metadata": {},
   "source": [
    "# Regularization experiment\n",
    "As an experiment, we will train a pair of two-layer networks on 500 training examples: one will use no dropout, and one will use a dropout probability of 0.75. We will then visualize the training and validation accuracies of the two networks over time."
   ]
  },
  {
   "cell_type": "code",
   "execution_count": 17,
   "metadata": {
    "collapsed": false,
    "scrolled": false
   },
   "outputs": [
    {
     "name": "stdout",
     "output_type": "stream",
     "text": [
      "0\n",
      "(Iteration 1 / 500) loss: 10.638816\n",
      "(Epoch 0 / 100) train acc: 0.212000; val_acc: 0.158000\n",
      "(Epoch 1 / 100) train acc: 0.370000; val_acc: 0.234000\n",
      "(Epoch 2 / 100) train acc: 0.450000; val_acc: 0.256000\n",
      "(Epoch 3 / 100) train acc: 0.582000; val_acc: 0.265000\n",
      "(Epoch 4 / 100) train acc: 0.614000; val_acc: 0.250000\n",
      "(Epoch 5 / 100) train acc: 0.710000; val_acc: 0.289000\n",
      "(Epoch 6 / 100) train acc: 0.756000; val_acc: 0.261000\n",
      "(Epoch 7 / 100) train acc: 0.804000; val_acc: 0.293000\n",
      "(Epoch 8 / 100) train acc: 0.860000; val_acc: 0.289000\n",
      "(Epoch 9 / 100) train acc: 0.874000; val_acc: 0.277000\n",
      "(Epoch 10 / 100) train acc: 0.930000; val_acc: 0.298000\n",
      "(Epoch 11 / 100) train acc: 0.922000; val_acc: 0.292000\n",
      "(Epoch 12 / 100) train acc: 0.952000; val_acc: 0.287000\n",
      "(Epoch 13 / 100) train acc: 0.958000; val_acc: 0.271000\n",
      "(Epoch 14 / 100) train acc: 0.970000; val_acc: 0.298000\n",
      "(Epoch 15 / 100) train acc: 0.942000; val_acc: 0.296000\n",
      "(Epoch 16 / 100) train acc: 0.970000; val_acc: 0.300000\n",
      "(Epoch 17 / 100) train acc: 0.986000; val_acc: 0.303000\n",
      "(Epoch 18 / 100) train acc: 0.982000; val_acc: 0.286000\n",
      "(Epoch 19 / 100) train acc: 0.994000; val_acc: 0.281000\n",
      "(Epoch 20 / 100) train acc: 0.984000; val_acc: 0.292000\n",
      "(Iteration 101 / 500) loss: 0.032292\n",
      "(Epoch 21 / 100) train acc: 0.988000; val_acc: 0.284000\n",
      "(Epoch 22 / 100) train acc: 0.994000; val_acc: 0.281000\n",
      "(Epoch 23 / 100) train acc: 0.996000; val_acc: 0.270000\n",
      "(Epoch 24 / 100) train acc: 1.000000; val_acc: 0.284000\n",
      "(Epoch 25 / 100) train acc: 0.996000; val_acc: 0.283000\n",
      "(Epoch 26 / 100) train acc: 1.000000; val_acc: 0.280000\n",
      "(Epoch 27 / 100) train acc: 1.000000; val_acc: 0.283000\n",
      "(Epoch 28 / 100) train acc: 0.994000; val_acc: 0.287000\n",
      "(Epoch 29 / 100) train acc: 0.994000; val_acc: 0.287000\n",
      "(Epoch 30 / 100) train acc: 0.990000; val_acc: 0.300000\n",
      "(Epoch 31 / 100) train acc: 0.998000; val_acc: 0.294000\n",
      "(Epoch 32 / 100) train acc: 0.996000; val_acc: 0.287000\n",
      "(Epoch 33 / 100) train acc: 0.998000; val_acc: 0.276000\n",
      "(Epoch 34 / 100) train acc: 0.994000; val_acc: 0.274000\n",
      "(Epoch 35 / 100) train acc: 1.000000; val_acc: 0.277000\n",
      "(Epoch 36 / 100) train acc: 1.000000; val_acc: 0.279000\n",
      "(Epoch 37 / 100) train acc: 1.000000; val_acc: 0.287000\n",
      "(Epoch 38 / 100) train acc: 1.000000; val_acc: 0.286000\n",
      "(Epoch 39 / 100) train acc: 1.000000; val_acc: 0.289000\n",
      "(Epoch 40 / 100) train acc: 1.000000; val_acc: 0.292000\n",
      "(Iteration 201 / 500) loss: 0.000067\n",
      "(Epoch 41 / 100) train acc: 1.000000; val_acc: 0.293000\n",
      "(Epoch 42 / 100) train acc: 1.000000; val_acc: 0.293000\n",
      "(Epoch 43 / 100) train acc: 1.000000; val_acc: 0.294000\n",
      "(Epoch 44 / 100) train acc: 1.000000; val_acc: 0.294000\n",
      "(Epoch 45 / 100) train acc: 1.000000; val_acc: 0.294000\n",
      "(Epoch 46 / 100) train acc: 1.000000; val_acc: 0.295000\n",
      "(Epoch 47 / 100) train acc: 1.000000; val_acc: 0.295000\n",
      "(Epoch 48 / 100) train acc: 1.000000; val_acc: 0.296000\n",
      "(Epoch 49 / 100) train acc: 1.000000; val_acc: 0.296000\n",
      "(Epoch 50 / 100) train acc: 1.000000; val_acc: 0.295000\n",
      "(Epoch 51 / 100) train acc: 1.000000; val_acc: 0.295000\n",
      "(Epoch 52 / 100) train acc: 1.000000; val_acc: 0.295000\n",
      "(Epoch 53 / 100) train acc: 1.000000; val_acc: 0.295000\n",
      "(Epoch 54 / 100) train acc: 1.000000; val_acc: 0.295000\n",
      "(Epoch 55 / 100) train acc: 1.000000; val_acc: 0.295000\n",
      "(Epoch 56 / 100) train acc: 1.000000; val_acc: 0.296000\n",
      "(Epoch 57 / 100) train acc: 1.000000; val_acc: 0.297000\n",
      "(Epoch 58 / 100) train acc: 1.000000; val_acc: 0.297000\n",
      "(Epoch 59 / 100) train acc: 1.000000; val_acc: 0.297000\n",
      "(Epoch 60 / 100) train acc: 1.000000; val_acc: 0.296000\n",
      "(Iteration 301 / 500) loss: 0.000028\n",
      "(Epoch 61 / 100) train acc: 1.000000; val_acc: 0.295000\n",
      "(Epoch 62 / 100) train acc: 1.000000; val_acc: 0.295000\n",
      "(Epoch 63 / 100) train acc: 1.000000; val_acc: 0.295000\n",
      "(Epoch 64 / 100) train acc: 1.000000; val_acc: 0.295000\n",
      "(Epoch 65 / 100) train acc: 1.000000; val_acc: 0.295000\n",
      "(Epoch 66 / 100) train acc: 1.000000; val_acc: 0.294000\n",
      "(Epoch 67 / 100) train acc: 1.000000; val_acc: 0.294000\n",
      "(Epoch 68 / 100) train acc: 1.000000; val_acc: 0.294000\n",
      "(Epoch 69 / 100) train acc: 1.000000; val_acc: 0.294000\n",
      "(Epoch 70 / 100) train acc: 1.000000; val_acc: 0.293000\n",
      "(Epoch 71 / 100) train acc: 1.000000; val_acc: 0.293000\n",
      "(Epoch 72 / 100) train acc: 1.000000; val_acc: 0.293000\n",
      "(Epoch 73 / 100) train acc: 1.000000; val_acc: 0.293000\n",
      "(Epoch 74 / 100) train acc: 1.000000; val_acc: 0.293000\n",
      "(Epoch 75 / 100) train acc: 1.000000; val_acc: 0.293000\n",
      "(Epoch 76 / 100) train acc: 1.000000; val_acc: 0.293000\n",
      "(Epoch 77 / 100) train acc: 1.000000; val_acc: 0.292000\n",
      "(Epoch 78 / 100) train acc: 1.000000; val_acc: 0.292000\n",
      "(Epoch 79 / 100) train acc: 1.000000; val_acc: 0.292000\n",
      "(Epoch 80 / 100) train acc: 1.000000; val_acc: 0.292000\n",
      "(Iteration 401 / 500) loss: 0.000014\n",
      "(Epoch 81 / 100) train acc: 1.000000; val_acc: 0.292000\n",
      "(Epoch 82 / 100) train acc: 1.000000; val_acc: 0.292000\n",
      "(Epoch 83 / 100) train acc: 1.000000; val_acc: 0.292000\n",
      "(Epoch 84 / 100) train acc: 1.000000; val_acc: 0.292000\n",
      "(Epoch 85 / 100) train acc: 1.000000; val_acc: 0.292000\n",
      "(Epoch 86 / 100) train acc: 1.000000; val_acc: 0.292000\n",
      "(Epoch 87 / 100) train acc: 1.000000; val_acc: 0.292000\n",
      "(Epoch 88 / 100) train acc: 1.000000; val_acc: 0.292000\n",
      "(Epoch 89 / 100) train acc: 1.000000; val_acc: 0.292000\n",
      "(Epoch 90 / 100) train acc: 1.000000; val_acc: 0.292000\n",
      "(Epoch 91 / 100) train acc: 1.000000; val_acc: 0.292000\n",
      "(Epoch 92 / 100) train acc: 1.000000; val_acc: 0.291000\n",
      "(Epoch 93 / 100) train acc: 1.000000; val_acc: 0.291000\n",
      "(Epoch 94 / 100) train acc: 1.000000; val_acc: 0.291000\n",
      "(Epoch 95 / 100) train acc: 1.000000; val_acc: 0.291000\n",
      "(Epoch 96 / 100) train acc: 1.000000; val_acc: 0.291000\n",
      "(Epoch 97 / 100) train acc: 1.000000; val_acc: 0.291000\n",
      "(Epoch 98 / 100) train acc: 1.000000; val_acc: 0.291000\n",
      "(Epoch 99 / 100) train acc: 1.000000; val_acc: 0.291000\n",
      "(Epoch 100 / 100) train acc: 1.000000; val_acc: 0.291000\n",
      "0.75\n",
      "(Iteration 1 / 500) loss: 9.442612\n",
      "(Epoch 0 / 100) train acc: 0.214000; val_acc: 0.189000\n",
      "(Epoch 1 / 100) train acc: 0.394000; val_acc: 0.240000\n",
      "(Epoch 2 / 100) train acc: 0.500000; val_acc: 0.274000\n",
      "(Epoch 3 / 100) train acc: 0.592000; val_acc: 0.270000\n",
      "(Epoch 4 / 100) train acc: 0.714000; val_acc: 0.285000\n",
      "(Epoch 5 / 100) train acc: 0.672000; val_acc: 0.257000\n",
      "(Epoch 6 / 100) train acc: 0.746000; val_acc: 0.267000\n",
      "(Epoch 7 / 100) train acc: 0.782000; val_acc: 0.304000\n",
      "(Epoch 8 / 100) train acc: 0.844000; val_acc: 0.298000\n",
      "(Epoch 9 / 100) train acc: 0.862000; val_acc: 0.283000\n",
      "(Epoch 10 / 100) train acc: 0.892000; val_acc: 0.296000\n",
      "(Epoch 11 / 100) train acc: 0.924000; val_acc: 0.287000\n",
      "(Epoch 12 / 100) train acc: 0.946000; val_acc: 0.292000\n",
      "(Epoch 13 / 100) train acc: 0.954000; val_acc: 0.297000\n",
      "(Epoch 14 / 100) train acc: 0.968000; val_acc: 0.287000\n",
      "(Epoch 15 / 100) train acc: 0.950000; val_acc: 0.283000\n",
      "(Epoch 16 / 100) train acc: 0.980000; val_acc: 0.309000\n",
      "(Epoch 17 / 100) train acc: 0.968000; val_acc: 0.311000\n",
      "(Epoch 18 / 100) train acc: 0.964000; val_acc: 0.302000\n",
      "(Epoch 19 / 100) train acc: 0.982000; val_acc: 0.288000\n",
      "(Epoch 20 / 100) train acc: 0.976000; val_acc: 0.294000\n",
      "(Iteration 101 / 500) loss: 0.249533\n",
      "(Epoch 21 / 100) train acc: 0.988000; val_acc: 0.313000\n",
      "(Epoch 22 / 100) train acc: 0.984000; val_acc: 0.305000\n",
      "(Epoch 23 / 100) train acc: 0.988000; val_acc: 0.297000\n",
      "(Epoch 24 / 100) train acc: 0.990000; val_acc: 0.298000\n",
      "(Epoch 25 / 100) train acc: 0.984000; val_acc: 0.290000\n",
      "(Epoch 26 / 100) train acc: 0.980000; val_acc: 0.295000\n",
      "(Epoch 27 / 100) train acc: 0.980000; val_acc: 0.316000\n",
      "(Epoch 28 / 100) train acc: 0.980000; val_acc: 0.311000\n",
      "(Epoch 29 / 100) train acc: 0.974000; val_acc: 0.304000\n",
      "(Epoch 30 / 100) train acc: 0.992000; val_acc: 0.288000\n",
      "(Epoch 31 / 100) train acc: 0.986000; val_acc: 0.284000\n",
      "(Epoch 32 / 100) train acc: 0.974000; val_acc: 0.310000\n",
      "(Epoch 33 / 100) train acc: 0.984000; val_acc: 0.304000\n",
      "(Epoch 34 / 100) train acc: 0.988000; val_acc: 0.298000\n",
      "(Epoch 35 / 100) train acc: 0.964000; val_acc: 0.300000\n",
      "(Epoch 36 / 100) train acc: 0.996000; val_acc: 0.309000\n",
      "(Epoch 37 / 100) train acc: 0.988000; val_acc: 0.288000\n",
      "(Epoch 38 / 100) train acc: 0.986000; val_acc: 0.280000\n",
      "(Epoch 39 / 100) train acc: 0.992000; val_acc: 0.282000\n",
      "(Epoch 40 / 100) train acc: 0.996000; val_acc: 0.295000\n",
      "(Iteration 201 / 500) loss: 0.218551\n",
      "(Epoch 41 / 100) train acc: 0.980000; val_acc: 0.312000\n",
      "(Epoch 42 / 100) train acc: 0.988000; val_acc: 0.309000\n",
      "(Epoch 43 / 100) train acc: 0.976000; val_acc: 0.302000\n",
      "(Epoch 44 / 100) train acc: 0.988000; val_acc: 0.308000\n",
      "(Epoch 45 / 100) train acc: 0.990000; val_acc: 0.318000\n",
      "(Epoch 46 / 100) train acc: 0.976000; val_acc: 0.312000\n",
      "(Epoch 47 / 100) train acc: 0.994000; val_acc: 0.295000\n",
      "(Epoch 48 / 100) train acc: 0.986000; val_acc: 0.275000\n",
      "(Epoch 49 / 100) train acc: 0.990000; val_acc: 0.292000\n",
      "(Epoch 50 / 100) train acc: 0.996000; val_acc: 0.287000\n",
      "(Epoch 51 / 100) train acc: 0.998000; val_acc: 0.287000\n",
      "(Epoch 52 / 100) train acc: 0.992000; val_acc: 0.298000\n",
      "(Epoch 53 / 100) train acc: 0.988000; val_acc: 0.287000\n",
      "(Epoch 54 / 100) train acc: 0.996000; val_acc: 0.294000\n",
      "(Epoch 55 / 100) train acc: 0.996000; val_acc: 0.307000\n",
      "(Epoch 56 / 100) train acc: 0.984000; val_acc: 0.296000\n",
      "(Epoch 57 / 100) train acc: 0.996000; val_acc: 0.315000\n",
      "(Epoch 58 / 100) train acc: 0.990000; val_acc: 0.292000\n",
      "(Epoch 59 / 100) train acc: 0.992000; val_acc: 0.290000\n",
      "(Epoch 60 / 100) train acc: 0.982000; val_acc: 0.318000\n",
      "(Iteration 301 / 500) loss: 0.528426\n",
      "(Epoch 61 / 100) train acc: 0.984000; val_acc: 0.279000\n",
      "(Epoch 62 / 100) train acc: 0.968000; val_acc: 0.268000\n",
      "(Epoch 63 / 100) train acc: 0.988000; val_acc: 0.296000\n",
      "(Epoch 64 / 100) train acc: 0.990000; val_acc: 0.303000\n",
      "(Epoch 65 / 100) train acc: 0.978000; val_acc: 0.289000\n",
      "(Epoch 66 / 100) train acc: 0.994000; val_acc: 0.304000\n",
      "(Epoch 67 / 100) train acc: 0.968000; val_acc: 0.282000\n",
      "(Epoch 68 / 100) train acc: 0.936000; val_acc: 0.267000\n",
      "(Epoch 69 / 100) train acc: 0.986000; val_acc: 0.300000\n",
      "(Epoch 70 / 100) train acc: 0.996000; val_acc: 0.297000\n",
      "(Epoch 71 / 100) train acc: 0.972000; val_acc: 0.283000\n",
      "(Epoch 72 / 100) train acc: 0.980000; val_acc: 0.294000\n",
      "(Epoch 73 / 100) train acc: 0.976000; val_acc: 0.316000\n",
      "(Epoch 74 / 100) train acc: 0.988000; val_acc: 0.305000\n",
      "(Epoch 75 / 100) train acc: 0.990000; val_acc: 0.308000\n",
      "(Epoch 76 / 100) train acc: 0.984000; val_acc: 0.305000\n",
      "(Epoch 77 / 100) train acc: 0.966000; val_acc: 0.301000\n",
      "(Epoch 78 / 100) train acc: 0.982000; val_acc: 0.323000\n",
      "(Epoch 79 / 100) train acc: 0.984000; val_acc: 0.300000\n",
      "(Epoch 80 / 100) train acc: 0.986000; val_acc: 0.300000\n",
      "(Iteration 401 / 500) loss: 0.026072\n",
      "(Epoch 81 / 100) train acc: 0.980000; val_acc: 0.301000\n",
      "(Epoch 82 / 100) train acc: 0.986000; val_acc: 0.303000\n",
      "(Epoch 83 / 100) train acc: 0.978000; val_acc: 0.267000\n",
      "(Epoch 84 / 100) train acc: 0.984000; val_acc: 0.280000\n",
      "(Epoch 85 / 100) train acc: 0.974000; val_acc: 0.303000\n",
      "(Epoch 86 / 100) train acc: 0.966000; val_acc: 0.295000\n",
      "(Epoch 87 / 100) train acc: 0.978000; val_acc: 0.285000\n",
      "(Epoch 88 / 100) train acc: 0.964000; val_acc: 0.310000\n",
      "(Epoch 89 / 100) train acc: 0.986000; val_acc: 0.299000\n",
      "(Epoch 90 / 100) train acc: 0.982000; val_acc: 0.300000\n",
      "(Epoch 91 / 100) train acc: 0.980000; val_acc: 0.297000\n",
      "(Epoch 92 / 100) train acc: 0.968000; val_acc: 0.310000\n",
      "(Epoch 93 / 100) train acc: 0.974000; val_acc: 0.293000\n",
      "(Epoch 94 / 100) train acc: 0.976000; val_acc: 0.279000\n",
      "(Epoch 95 / 100) train acc: 0.974000; val_acc: 0.287000\n",
      "(Epoch 96 / 100) train acc: 0.980000; val_acc: 0.299000\n",
      "(Epoch 97 / 100) train acc: 0.986000; val_acc: 0.288000\n",
      "(Epoch 98 / 100) train acc: 0.974000; val_acc: 0.292000\n",
      "(Epoch 99 / 100) train acc: 0.982000; val_acc: 0.269000\n",
      "(Epoch 100 / 100) train acc: 0.988000; val_acc: 0.291000\n"
     ]
    }
   ],
   "source": [
    "# Train two identical nets, one with dropout and one without\n",
    "\n",
    "num_train = 500\n",
    "small_data = {\n",
    "  'X_train': data['X_train'][:num_train],\n",
    "  'y_train': data['y_train'][:num_train],\n",
    "  'X_val': data['X_val'],\n",
    "  'y_val': data['y_val'],\n",
    "}\n",
    "\n",
    "solvers = {}\n",
    "dropout_choices = [0, 0.75]\n",
    "for dropout in dropout_choices:\n",
    "  model = FullyConnectedNet([500], dropout=dropout)\n",
    "  print dropout\n",
    "\n",
    "  solver = Solver(model, small_data,\n",
    "                  num_epochs=25*4, batch_size=100,\n",
    "                  update_rule='adam',\n",
    "                  optim_config={\n",
    "                    'learning_rate': 5e-4,\n",
    "                  },\n",
    "                  verbose=True, print_every=100)\n",
    "  solver.train()\n",
    "  solvers[dropout] = solver"
   ]
  },
  {
   "cell_type": "code",
   "execution_count": 18,
   "metadata": {
    "collapsed": false
   },
   "outputs": [
    {
     "data": {
      "image/png": "[encoded data removed]",
      "text/plain": [
       "<matplotlib.figure.Figure at 0x7ff07612f3d0>"
      ]
     },
     "metadata": {},
     "output_type": "display_data"
    }
   ],
   "source": [
    "# Plot train and validation accuracies of the two models\n",
    "\n",
    "train_accs = []\n",
    "val_accs = []\n",
    "for dropout in dropout_choices:\n",
    "  solver = solvers[dropout]\n",
    "  train_accs.append(solver.train_acc_history[-1])\n",
    "  val_accs.append(solver.val_acc_history[-1])\n",
    "\n",
    "plt.subplot(3, 1, 1)\n",
    "for dropout in dropout_choices:\n",
    "  plt.plot(solvers[dropout].train_acc_history, 'o', label='%.2f dropout' % dropout)\n",
    "plt.title('Train accuracy')\n",
    "plt.xlabel('Epoch')\n",
    "plt.ylabel('Accuracy')\n",
    "plt.legend(ncol=2, loc='lower right')\n",
    "  \n",
    "plt.subplot(3, 1, 2)\n",
    "for dropout in dropout_choices:\n",
    "  plt.plot(solvers[dropout].val_acc_history, 'o', label='%.2f dropout' % dropout)\n",
    "plt.title('Val accuracy')\n",
    "plt.xlabel('Epoch')\n",
    "plt.ylabel('Accuracy')\n",
    "plt.legend(ncol=2, loc='lower right')\n",
    "\n",
    "plt.gcf().set_size_inches(15, 15)\n",
    "plt.show()"
   ]
  },
  {
   "cell_type": "markdown",
   "metadata": {},
   "source": [
    "# Question\n",
    "Explain what you see in this experiment. What does it suggest about dropout?"
   ]
  },
  {
   "cell_type": "markdown",
   "metadata": {},
   "source": [
    "# Answer\n"
   ]
  }
 ],
 "metadata": {
  "kernelspec": {
   "display_name": "Python 2",
   "language": "python",
   "name": "python2"
  },
  "language_info": {
   "codemirror_mode": {
    "name": "ipython",
    "version": 2
   },
   "file_extension": ".py",
   "mimetype": "text/x-python",
   "name": "python",
   "nbconvert_exporter": "python",
   "pygments_lexer": "ipython2",
   "version": "2.7.11"
  }
 },
 "nbformat": 4,
 "nbformat_minor": 0
}
